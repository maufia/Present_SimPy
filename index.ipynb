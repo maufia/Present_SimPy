{
 "cells": [
  {
   "cell_type": "markdown",
   "metadata": {},
   "source": [
    "![SimPy](http://simpy.readthedocs.io/en/latest/_static/simpy-logo-small.png) "
   ]
  },
  {
   "cell_type": "code",
   "execution_count": 13,
   "metadata": {
    "collapsed": false,
    "hide_input": false
   },
   "outputs": [],
   "source": [
    "import simpy"
   ]
  },
  {
   "cell_type": "markdown",
   "metadata": {},
   "source": [
    "## Short introduction to SimPy\n",
    "\n",
    "### What is SimPy\n",
    "\n",
    "SimPy is a _process-based discrete-event simulation **framework**_ for Python.\n",
    "\n",
    "Other _discrete-events_ software are NS3, NetSim and many others."
   ]
  },
  {
   "cell_type": "markdown",
   "metadata": {},
   "source": [
    "### Simulators basics\n",
    "\n",
    "Three basic ways to simulate a series of inter-dependent events are:\n",
    "\n",
    "  - Activity oriented: simulate each small time steps\n",
    "  - Event oriented: ignore the time in between events (discrete-events).\n",
    "  - Process based: each activity is simulated as a UNIX process, taking advantage of queues, threads etc. offered by the OS.\n",
    "  \n",
    "  > SimPy is process-based, but it does not used threads, it instead employs Python _generators_."
   ]
  },
  {
   "cell_type": "markdown",
   "metadata": {},
   "source": [
    "## Example\n",
    "\n",
    "An example of events which can be simulated on SimPy is a voice call on a circuit switch network:\n",
    "\n",
    " - First the load (voice calls) is generated\n",
    " - Than a limit to the available resources is imposed, with the aim to measure systems capabilities"
   ]
  },
  {
   "cell_type": "markdown",
   "metadata": {},
   "source": [
    "### Setup"
   ]
  },
  {
   "cell_type": "code",
   "execution_count": 14,
   "metadata": {
    "code_folding": [],
    "collapsed": false,
    "scrolled": false
   },
   "outputs": [
    {
     "name": "stdout",
     "output_type": "stream",
     "text": [
      "Busy Hour Traffic: 3.1Erlangs (equivalent to 3.1hours of call every hour)\n",
      "Call rate of arrival: 58.06sec/call\n"
     ]
    }
   ],
   "source": [
    "import random\n",
    "\n",
    "def expo_delay(mean):\n",
    "    return random.expovariate(1/mean)\n",
    "\n",
    "def poisson_arrival(arrival):\n",
    "    shape = 1\n",
    "    return random.gammavariate(shape, arrival)\n",
    "\n",
    "# Assume number of users and tyical traffic per user for voice call\n",
    "nUsers = 31\n",
    "User_Traffic_Erlangs = 0.1  # Traffic per user in PSTN (typical)\n",
    "\n",
    "# Calculate total traffic generate by those users\n",
    "BH_Erlangs = nUsers * User_Traffic_Erlangs  # Traffic [Erlangs] - dimensioneless\n",
    "\n",
    "# Assume some duratin for each call (average)\n",
    "mean_call_duration = 180  # Mean Holding Time (MHT) [sec]\n",
    "\n",
    "# Calculate the Call Attempt/Arrival for the given traffic (not users!)\n",
    "BHCA = BH_Erlangs / mean_call_duration # calls attempt during Busy Hour [call/sec]\n",
    "\n",
    "# This is the average time between calls you should expect\n",
    "rate_arrival = 1 / BHCA # [sec/call]\n",
    "print(\"Busy Hour Traffic: {e}Erlangs (equivalent to {e}hours of call every hour)\".format(\n",
    "        e=BH_Erlangs))\n",
    "print(\"Call rate of arrival: {r:.2f}sec/call\".format(r=rate_arrival))"
   ]
  },
  {
   "cell_type": "code",
   "execution_count": 15,
   "metadata": {
    "code_folding": [
     2,
     6
    ],
    "collapsed": false
   },
   "outputs": [
    {
     "name": "stdout",
     "output_type": "stream",
     "text": [
      "Rate Arrival:  Required: 58.0645sec/call, Mean 60.3261sec/call\n",
      "Call Duration: Required: 180.0000sec, Mean 178.6277sec\n"
     ]
    }
   ],
   "source": [
    "import statistics as stats\n",
    "A = [poisson_arrival(rate_arrival) for i in range(1,1000)]\n",
    "print(\"Rate Arrival:  Required: {a:=3.4f}sec/call, Mean {m:=3.4f}sec/call\".format(\n",
    "        a=rate_arrival, \n",
    "        m=stats.mean(A)))\n",
    "D = [expo_delay(mean_call_duration) for i in range(1,1000)]\n",
    "print(\"Call Duration: Required: {d:=.4f}sec, Mean {m:=.4f}sec\".format(d=mean_call_duration, \n",
    "                                                                  m=stats.mean(D)))"
   ]
  },
  {
   "cell_type": "markdown",
   "metadata": {},
   "source": [
    "### Simulation"
   ]
  },
  {
   "cell_type": "markdown",
   "metadata": {},
   "source": [
    "Assuming calls are always served (e.g. _resources >> offered traffic_).\n",
    "\n",
    "Two processes are created representing a typical voice call:\n",
    " * _ringring_: alerts of a new call for a user (arrival time is a random process).\n",
    " * _talk_: the user talks for a random period before terminating the call. \n",
    " \n",
    "A _Monitor_ global variable can be used to store variable to be monitored. Note that a python list or any other _change in place_ container must be used; such that all processes have access to it."
   ]
  },
  {
   "cell_type": "code",
   "execution_count": 17,
   "metadata": {
    "collapsed": false,
    "hide_input": false,
    "scrolled": true
   },
   "outputs": [],
   "source": [
    "def talk(env, call_id):\n",
    "    \"\"\" \n",
    "    User locks resources for the duration of the call. \n",
    "    \"\"\"  \n",
    "    yield env.timeout(expo_delay(mean_call_duration))  # wait to terminate call\n",
    "    monitor_talk(env.now, call_id)  # Logging event\n",
    "    return True\n",
    "    \n",
    "def ringring(env):\n",
    "    \"\"\"\n",
    "    Call arrival\n",
    "    \"\"\"\n",
    "    call_id = 0\n",
    "    while True:\n",
    "        env.process(talk(env, call_id))  # Call 'talk process'\n",
    "        monitor_ring(env.now, call_id)  # logging event\n",
    "        yield env.timeout(poisson_arrival(rate_arrival))  # wait to next call\n",
    "        call_id = call_id + 1"
   ]
  },
  {
   "cell_type": "code",
   "execution_count": 25,
   "metadata": {
    "code_folding": [
     4,
     8
    ],
    "collapsed": false,
    "hide_input": false,
    "scrolled": true
   },
   "outputs": [
    {
     "name": "stdout",
     "output_type": "stream",
     "text": [
      "t=   0.00s - \u001b[1;30;41mRing Ring\u001b[0m for user   0\n",
      "t=  48.14s - \u001b[1;30;41mRing Ring\u001b[0m for user   1\n",
      "t=  98.36s - User   0 has terminated the call\n",
      "t= 141.46s - User   1 has terminated the call\n",
      "t= 179.72s - \u001b[1;30;41mRing Ring\u001b[0m for user   2\n",
      "t= 242.78s - User   2 has terminated the call\n",
      "t= 306.76s - \u001b[1;30;41mRing Ring\u001b[0m for user   3\n",
      "t= 339.98s - \u001b[1;30;41mRing Ring\u001b[0m for user   4\n",
      "t= 397.37s - \u001b[1;30;41mRing Ring\u001b[0m for user   5\n",
      "t= 439.18s - User   4 has terminated the call\n",
      "t= 559.34s - User   3 has terminated the call\n",
      "\t...\t...\t...\n"
     ]
    }
   ],
   "source": [
    "\"\"\" Use a list to store process' states \"\"\"\n",
    "Monitor=[]\n",
    "\n",
    "# append to Monitor string to print \n",
    "def monitor_talk(t, id):\n",
    "    \"\"\" Apppend call termination to log\"\"\"\n",
    "    Monitor.append(\"t={t:=7.2f}s - User {id:>3d} has terminated the call\".format(t=t, \n",
    "                                                                           id=id))\n",
    "def monitor_ring(t, id):\n",
    "    \"\"\" Append ring to log\"\"\"\n",
    "    Monitor.append(\"t={t:=7.2f}s - {ring} for user {id:>3d}\".format(t=t,\n",
    "                    ring=\"\\033[1;30;41mRing Ring\\033[0m\", id=id))    \n",
    "\n",
    "\"\"\" SimPy calls to create and environement and start process \"\"\"\n",
    "env = simpy.Environment()\n",
    "env.process(ringring(env))\n",
    "env.run(60 * 10)  # simulate 10min calls\n",
    "\n",
    "# print some calls\n",
    "[print(m) for m in Monitor]\n",
    "print(\"\\t...\\t...\\t...\")"
   ]
  },
  {
   "cell_type": "markdown",
   "metadata": {},
   "source": [
    "### A more realistic example: finite resources\n",
    "\n",
    "Let's assume some finite resources: the system only provide a maximum number of lines/channels, above which no further calls can be served.\n",
    "\n",
    "SimPy's _Container_ utility are used to pass the number of lines among the _talk_ processes."
   ]
  },
  {
   "cell_type": "code",
   "execution_count": 49,
   "metadata": {
    "collapsed": false,
    "hide_input": false
   },
   "outputs": [],
   "source": [
    "'''Set up resources'''\n",
    "NUMBER_LINES= 8\n",
    "\n",
    "def talk(env, channels, Log):\n",
    "    ''' Generator for channel usage\n",
    "        Only assign channels if there are any available\n",
    "    '''\n",
    "    if channels.level > 0:  # check channel avaiability\n",
    "        channels.get(1)  # take a line\n",
    "        yield env.timeout(expo_delay(mean_call_duration))\n",
    "        channels.put(1)  # free up a line\n",
    "    else:\n",
    "        # no resources available... drop the call\n",
    "        Log.append('drop')\n",
    "    return True\n",
    "    \n",
    "def call_arrival(env, channels, Log):\n",
    "    ''' Generator for call arrival\n",
    "        For every new call, call the _talk_ process to serve the call'''\n",
    "    while True:\n",
    "        Log.append('call')\n",
    "        env.process(talk(env, channels, Log))\n",
    "        yield env.timeout(poisson_arrival(rate_arrival))\n",
    "        # log status of channels\n",
    "        Monitor.append((env.now, channels.level))\n",
    "    \n",
    "'''Set up log stores'''\n",
    "Log = []  # store call events\n",
    "Monitor = []  # store usage of channels\n",
    "\n",
    "''' Start SimPy by creating environment and the container for resources'''\n",
    "env = simpy.Environment()\n",
    "# The container is passed to all the processes\n",
    "channels = simpy.Container(env, capacity=NUMBER_LINES, init=NUMBER_LINES)\n",
    "env.process(call_arrival(env, channels, Log))\n",
    "env.run(60 * 60 * 1000) "
   ]
  },
  {
   "cell_type": "markdown",
   "metadata": {},
   "source": [
    "#### Results"
   ]
  },
  {
   "cell_type": "code",
   "execution_count": 50,
   "metadata": {
    "collapsed": false
   },
   "outputs": [
    {
     "name": "stdout",
     "output_type": "stream",
     "text": [
      "Number calls generated: 61860\n",
      "Number dropped calls: 580\n",
      "Call blocking 0.0094\n"
     ]
    },
    {
     "data": {
      "image/png": "[encoded data removed]",
      "text/plain": [
       "<matplotlib.figure.Figure at 0x7f7bd37629b0>"
      ]
     },
     "metadata": {},
     "output_type": "display_data"
    }
   ],
   "source": [
    "%matplotlib inline\n",
    "\n",
    "ncalls = sum(1 for e in Log if e == 'call')\n",
    "ndrop = sum(1 for e in Log if e == 'drop')\n",
    "print(\"Number calls generated: {n}\".format(n=ncalls))\n",
    "print(\"Number dropped calls: {d}\".format(d=ndrop))\n",
    "print(\"Call blocking {r:2.4f}\".format(r=ndrop/ncalls), )\n",
    "\n",
    "import matplotlib.pyplot as plt\n",
    "\n",
    "MAX_SMPL = 1000\n",
    "t = [m[0]/60 for m in Monitor[:MAX_SMPL]]\n",
    "M = [m[1] for m in Monitor[:MAX_SMPL]]\n",
    "plt.plot(t,M,'-')\n",
    "plt.xlabel('Time [minutes]')\n",
    "plt.ylabel('Channel use [#]')\n",
    "plt.title('Channels usage')\n",
    "plt.axis([0,t[-1],-0.5,8.5])\n",
    "plt.grid(True)\n",
    "plt.show(True)"
   ]
  },
  {
   "cell_type": "markdown",
   "metadata": {
    "collapsed": true
   },
   "source": [
    "#### Disclaimer\n",
    "The example above only shows a simple case of a classical _M/M/k_ problem; in practice the final result can be calculated from equation (see [Erlang-B](https://en.wikipedia.org/wiki/Erlang_(unit)) on Wikipedia), no simulation is actually needed! "
   ]
  },
  {
   "cell_type": "code",
   "execution_count": 54,
   "metadata": {
    "collapsed": false
   },
   "outputs": [
    {
     "name": "stdout",
     "output_type": "stream",
     "text": [
      "Theoretical drop rate: 0.0101\n"
     ]
    }
   ],
   "source": [
    "import math\n",
    "def Blocking_Prob(E, m):\n",
    "    \"\"\" Calculate probability of blocking for Erlangs distribution B(E,m)\"\"\"\n",
    "    # note this algorithm is not numerically stable... bit rubbish really!\n",
    "    return ((E**m)/math.factorial(m))/sum((E**i)/math.factorial(i) for i in range(0,m))\n",
    "\n",
    "print(\"Theoretical drop rate: {d:.4f}\".format(d=Blocking_Prob(BH_Erlangs, NUMBER_LINES)))"
   ]
  },
  {
   "cell_type": "markdown",
   "metadata": {
    "collapsed": true
   },
   "source": [
    "## Further enhancements "
   ]
  },
  {
   "cell_type": "code",
   "execution_count": null,
   "metadata": {
    "collapsed": true
   },
   "outputs": [],
   "source": []
  }
 ],
 "metadata": {
  "kernelspec": {
   "display_name": "Python 3",
   "language": "python",
   "name": "python3"
  },
  "language_info": {
   "codemirror_mode": {
    "name": "ipython",
    "version": 3
   },
   "file_extension": ".py",
   "mimetype": "text/x-python",
   "name": "python",
   "nbconvert_exporter": "python",
   "pygments_lexer": "ipython3",
   "version": "3.4.2"
  },
  "latex_envs": {
   "bibliofile": "biblio.bib",
   "cite_by": "apalike",
   "current_citInitial": 1,
   "eqLabelWithNumbers": true,
   "eqNumInitial": 0
  }
 },
 "nbformat": 4,
 "nbformat_minor": 0
}
